{
  "nbformat": 4,
  "nbformat_minor": 0,
  "metadata": {
    "colab": {
      "provenance": []
    },
    "kernelspec": {
      "name": "python3",
      "display_name": "Python 3"
    },
    "language_info": {
      "name": "python"
    }
  },
  "cells": [
    {
      "cell_type": "code",
      "execution_count": 2,
      "metadata": {
        "id": "QEWChZfV6uZm",
        "colab": {
          "base_uri": "https://localhost:8080/"
        },
        "outputId": "e07c53b3-5a22-4319-dffe-afe6d9f93797"
      },
      "outputs": [
        {
          "output_type": "stream",
          "name": "stdout",
          "text": [
            "[1, 3, 5, 7, 9, 11, 13, 15, 17, 19, 21, 23, 25]\n"
          ]
        }
      ],
      "source": [
        "'''Q1. Which keyword is used to create a function? Create a function to return a list of odd numbers in the\n",
        "range of 1 to 25.'''\n",
        "#Answer\n",
        "#In Python, the def keyword is used to define a function. Here's an example of a function that returns a list of odd numbers in the range from 1 to 25:\n",
        "\n",
        "\n",
        "def get_odd_numbers():\n",
        "    # Using a list comprehension to generate odd numbers in the range from 1 to 25\n",
        "    return [num for num in range(1, 26) if num % 2 != 0]\n",
        "\n",
        "# Example usage\n",
        "odd_numbers = get_odd_numbers()\n",
        "print(odd_numbers)\n"
      ]
    },
    {
      "cell_type": "code",
      "source": [
        "'''Q2. Why *args and **kwargs is used in some functions? Create a function each for *args and **kwargs\n",
        "to demonstrate their use.'''\n",
        "#Answer\n",
        "#In Python, *args and **kwargs are used in function definitions to handle variable numbers of arguments.\n",
        "#*args allows a function to accept any number of positional arguments (i.e., arguments without keywords).\n",
        "#**kwargs allows a function to accept any number of keyword arguments (i.e., arguments with keywords).\n",
        "\n",
        "def print_numbers(*args):\n",
        "    for number in args:\n",
        "        print(number)\n",
        "\n",
        "# Example usage\n",
        "print_numbers(1, 2, 3, 4, 5)\n"
      ],
      "metadata": {
        "colab": {
          "base_uri": "https://localhost:8080/"
        },
        "id": "3qysnQfQFu2c",
        "outputId": "b0a9a7e8-fd62-4798-df76-b298f1231f80"
      },
      "execution_count": 4,
      "outputs": [
        {
          "output_type": "stream",
          "name": "stdout",
          "text": [
            "1\n",
            "2\n",
            "3\n",
            "4\n",
            "5\n"
          ]
        }
      ]
    },
    {
      "cell_type": "code",
      "source": [
        "def print_details(**kwargs):\n",
        "    for key, value in kwargs.items():\n",
        "        print(f\"{key}: {value}\")\n",
        "\n",
        "# Example usage\n",
        "print_details(name=\"Alice\", age=30, city=\"New York\")\n"
      ],
      "metadata": {
        "colab": {
          "base_uri": "https://localhost:8080/"
        },
        "id": "LAL13mq2MKEC",
        "outputId": "e547bd6b-6ea1-4b43-da20-a0c8133b6086"
      },
      "execution_count": 6,
      "outputs": [
        {
          "output_type": "stream",
          "name": "stdout",
          "text": [
            "name: Alice\n",
            "age: 30\n",
            "city: New York\n"
          ]
        }
      ]
    },
    {
      "cell_type": "code",
      "source": [
        "'''Q3. What is an iterator in python? Name the method used to initialise the iterator object and the method\n",
        "used for iteration. Use these methods to print the first five elements of the given list [2, 4, 6, 8, 10, 12, 14,\n",
        "16, 18, 20].'''\n",
        "#Answer\n",
        "'''In Python, an iterator is an object that allows you to iterate over a sequence of elements, such as a list or a tuple. It implements two key methods:\n",
        "\n",
        "__iter__(): This method initializes the iterator object and returns the iterator itself. It is required for an object to be considered an iterator.\n",
        "__next__(): This method is used to fetch the next item from the iterator. When there are no more items, it raises a StopIteration exception.\n",
        "Here’s how you can use these methods to print the first five elements of the given list [2, 4, 6, 8, 10, 12, 14, 16, 18, 20]:'''\n",
        "# Define the list\n",
        "numbers = [2, 4, 6, 8, 10, 12, 14, 16, 18, 20]\n",
        "\n",
        "# Create an iterator object\n",
        "iterator = iter(numbers)\n",
        "\n",
        "# Print the first five elements using the iterator\n",
        "for _ in range(5):\n",
        "    print(next(iterator))\n"
      ],
      "metadata": {
        "colab": {
          "base_uri": "https://localhost:8080/"
        },
        "id": "GZ-tNtWEMaiT",
        "outputId": "ddda9837-f692-4c13-d1b4-3503fcbe8186"
      },
      "execution_count": 8,
      "outputs": [
        {
          "output_type": "stream",
          "name": "stdout",
          "text": [
            "2\n",
            "4\n",
            "6\n",
            "8\n",
            "10\n"
          ]
        }
      ]
    },
    {
      "cell_type": "code",
      "source": [
        "'''Q4. What is a generator function in python? Why yield keyword is used? Give an example of a generator\n",
        "function.'''\n",
        "#Answer\n",
        "# A generator function in Python is a special type of function that returns an iterator known as a generator.\n",
        "#Instead of returning a single value and terminating, a generator function can yield multiple values one at a time.\n",
        "# This is useful for handling large datasets or streams of data where it is not practical to store everything in memory at once.\n",
        "\n",
        "def count_up_to(max):\n",
        "    count = 1\n",
        "    while count <= max:\n",
        "        yield count\n",
        "        count += 1\n",
        "\n",
        "# Example usage\n",
        "counter = count_up_to(5)\n",
        "\n",
        "for number in counter:\n",
        "    print(number)\n"
      ],
      "metadata": {
        "colab": {
          "base_uri": "https://localhost:8080/"
        },
        "id": "iSyYnTJdN6cq",
        "outputId": "c6c771c7-ae58-4185-e821-bde04fb50ff2"
      },
      "execution_count": 10,
      "outputs": [
        {
          "output_type": "stream",
          "name": "stdout",
          "text": [
            "1\n",
            "2\n",
            "3\n",
            "4\n",
            "5\n"
          ]
        }
      ]
    },
    {
      "cell_type": "code",
      "source": [
        "'''Q5. Create a generator function for prime numbers less than 1000. Use the next() method to print the\n",
        "first 20 prime numbers.'''\n",
        "#Answer\n",
        "\n",
        "def is_prime(n):\n",
        "    \"\"\"Check if a number is prime.\"\"\"\n",
        "    if n <= 1:\n",
        "        return False\n",
        "    if n <= 3:\n",
        "        return True\n",
        "    if n % 2 == 0 or n % 3 == 0:\n",
        "        return False\n",
        "    i = 5\n",
        "    while i * i <= n:\n",
        "        if n % i == 0 or n % (i + 2) == 0:\n",
        "            return False\n",
        "        i += 6\n",
        "    return True\n",
        "\n",
        "def prime_generator(limit):\n",
        "    \"\"\"Generate prime numbers less than the specified limit.\"\"\"\n",
        "    num = 2\n",
        "    while num < limit:\n",
        "        if is_prime(num):\n",
        "            yield num\n",
        "        num += 1\n",
        "\n",
        "# Example usage: Print the first 20 prime numbers less than 1000\n",
        "prime_gen = prime_generator(1000)\n",
        "for _ in range(20):\n",
        "    print(next(prime_gen))\n"
      ],
      "metadata": {
        "colab": {
          "base_uri": "https://localhost:8080/"
        },
        "id": "3j6LxgYOSTof",
        "outputId": "ce6a9e9c-db5b-45e6-8823-f969b41cd6ea"
      },
      "execution_count": 12,
      "outputs": [
        {
          "output_type": "stream",
          "name": "stdout",
          "text": [
            "2\n",
            "3\n",
            "5\n",
            "7\n",
            "11\n",
            "13\n",
            "17\n",
            "19\n",
            "23\n",
            "29\n",
            "31\n",
            "37\n",
            "41\n",
            "43\n",
            "47\n",
            "53\n",
            "59\n",
            "61\n",
            "67\n",
            "71\n"
          ]
        }
      ]
    },
    {
      "cell_type": "code",
      "source": [
        "'''Q6. Write a python program to print the first 10 Fibonacci numbers using a while loop.'''\n",
        "\n",
        "#Answer\n",
        "def print_fibonacci(n):\n",
        "    # Initialize the first two Fibonacci numbers\n",
        "    a, b = 0, 1\n",
        "    count = 0\n",
        "\n",
        "    # Loop until we have printed n Fibonacci numbers\n",
        "    while count < n:\n",
        "        print(a, end=' ')\n",
        "        # Update the values of a and b\n",
        "        a, b = b, a + b\n",
        "        count += 1\n",
        "\n",
        "# Print the first 10 Fibonacci numbers\n",
        "print_fibonacci(10)\n",
        "\n",
        "\n"
      ],
      "metadata": {
        "colab": {
          "base_uri": "https://localhost:8080/"
        },
        "id": "iHyCINMrVBME",
        "outputId": "6f4676f4-ef52-43a5-c0c6-b398e4dc3864"
      },
      "execution_count": 14,
      "outputs": [
        {
          "output_type": "stream",
          "name": "stdout",
          "text": [
            "0 1 1 2 3 5 8 13 21 34 "
          ]
        }
      ]
    },
    {
      "cell_type": "code",
      "source": [
        "'''Q7. Write a List Comprehension to iterate through the given string: ‘pwskills’.\n",
        "Expected output: ['p', 'w', 's', 'k', 'i', 'l', 'l', 's']'''\n",
        "#Answer\n",
        "\n",
        "# Given string\n",
        "string = 'pwskills'\n",
        "\n",
        "# List comprehension to iterate through the string and create a list of characters\n",
        "char_list = [char for char in string]\n",
        "\n",
        "# Print the result\n",
        "print(char_list)\n"
      ],
      "metadata": {
        "colab": {
          "base_uri": "https://localhost:8080/"
        },
        "id": "5kjNP0MPVYRB",
        "outputId": "f3d214e6-297e-4382-d9fa-222862b301f4"
      },
      "execution_count": 16,
      "outputs": [
        {
          "output_type": "stream",
          "name": "stdout",
          "text": [
            "['p', 'w', 's', 'k', 'i', 'l', 'l', 's']\n"
          ]
        }
      ]
    },
    {
      "cell_type": "code",
      "source": [
        "'''Q8. Write a python program to check whether a given number is Palindrome or not using a while loop.'''\n",
        "#Answer\n",
        "\n",
        "def is_palindrome(number):\n",
        "    # Convert the number to a string to easily reverse it\n",
        "    original_number = str(number)\n",
        "    reversed_number = \"\"\n",
        "\n",
        "    # Use a while loop to reverse the string\n",
        "    index = len(original_number) - 1\n",
        "    while index >= 0:\n",
        "        reversed_number += original_number[index]\n",
        "        index -= 1\n",
        "\n",
        "    # Check if the original number is equal to the reversed number\n",
        "    return original_number == reversed_number\n",
        "\n",
        "# Example usage\n",
        "number = int(input(\"Enter a number to check if it is a palindrome: \"))\n",
        "if is_palindrome(number):\n",
        "    print(f\"{number} is a palindrome.\")\n",
        "else:\n",
        "    print(f\"{number} is not a palindrome.\")\n"
      ],
      "metadata": {
        "colab": {
          "base_uri": "https://localhost:8080/"
        },
        "id": "4tLMUhgvVvy-",
        "outputId": "14876e64-098c-4c8b-f25e-c81e40d577a9"
      },
      "execution_count": 21,
      "outputs": [
        {
          "output_type": "stream",
          "name": "stdout",
          "text": [
            "Enter a number to check if it is a palindrome: 54\n",
            "54 is not a palindrome.\n"
          ]
        }
      ]
    },
    {
      "cell_type": "code",
      "source": [
        "'''Q9. Write a code to print odd numbers from 1 to 100 using list comprehension.'''\n",
        "#Answer\n",
        "\n",
        "# List comprehension to generate odd numbers from 1 to 100\n",
        "odd_numbers = [num for num in range(1, 101) if num % 2 != 0]\n",
        "\n",
        "# Print the list of odd numbers\n",
        "print(odd_numbers)\n"
      ],
      "metadata": {
        "colab": {
          "base_uri": "https://localhost:8080/"
        },
        "id": "bUaszqFfWHsG",
        "outputId": "0d90e0aa-55d0-48f3-9e93-d71df8b7c521"
      },
      "execution_count": 23,
      "outputs": [
        {
          "output_type": "stream",
          "name": "stdout",
          "text": [
            "[1, 3, 5, 7, 9, 11, 13, 15, 17, 19, 21, 23, 25, 27, 29, 31, 33, 35, 37, 39, 41, 43, 45, 47, 49, 51, 53, 55, 57, 59, 61, 63, 65, 67, 69, 71, 73, 75, 77, 79, 81, 83, 85, 87, 89, 91, 93, 95, 97, 99]\n"
          ]
        }
      ]
    },
    {
      "cell_type": "code",
      "source": [],
      "metadata": {
        "id": "0QFkroaqcK7l"
      },
      "execution_count": null,
      "outputs": []
    }
  ]
}